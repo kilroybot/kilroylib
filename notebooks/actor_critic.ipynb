{
 "cells": [
  {
   "cell_type": "code",
   "execution_count": 1,
   "id": "3cae58c1-18be-4625-8ba7-86d15cab4693",
   "metadata": {},
   "outputs": [],
   "source": [
    "import torch\n",
    "from torch import nn, optim\n",
    "import matplotlib.pyplot as plt"
   ]
  },
  {
   "cell_type": "code",
   "execution_count": 2,
   "id": "59a459fb-0db9-4ccb-b923-2cc374f972c6",
   "metadata": {},
   "outputs": [],
   "source": [
    "n_choices = 100"
   ]
  },
  {
   "cell_type": "code",
   "execution_count": 3,
   "id": "1613db73-00fe-4ea3-8e91-c5cde94d739d",
   "metadata": {},
   "outputs": [
    {
     "data": {
      "text/plain": [
       "tensor([ 0.2728,  0.8485,  1.9570,  0.3642, -0.0509,  0.6485,  0.7558, -0.0512,\n",
       "        -0.6041,  0.2835, -1.2313,  0.4070,  1.6300, -0.1443, -0.0804, -0.1053,\n",
       "        -2.1896,  1.3278,  0.7259,  0.5541,  0.4484, -1.1840, -0.9875,  0.1828,\n",
       "         0.9440,  0.0799,  0.2153, -0.2423,  0.3681,  0.4124, -0.1718,  0.8834,\n",
       "         0.0794, -0.6686, -0.5554, -0.0388, -0.3344,  0.8385, -0.7370,  0.9448,\n",
       "         1.4550,  1.5817,  1.8372,  1.0672,  0.6631, -1.6958,  2.3548,  1.7494,\n",
       "        -1.2317,  0.0795, -1.2483, -0.3615,  1.7780,  1.3128,  0.7940,  0.3622,\n",
       "        -1.7430, -1.0513,  0.4906,  1.0958, -1.4606,  1.7415,  0.1645, -0.8946,\n",
       "         1.0477, -0.1584,  0.4664, -0.2181,  0.5473,  0.3880,  1.0698,  1.2805,\n",
       "        -0.0783, -0.7171,  0.0632, -1.1582, -0.1649, -0.4684,  0.6221,  0.2257,\n",
       "        -0.3597, -0.7624, -1.0163, -0.4416, -0.0059, -0.3830,  0.2634, -1.2830,\n",
       "         1.1535,  1.4681, -1.8486, -1.0262, -0.8522, -1.7145, -1.4729, -0.4306,\n",
       "         2.1838,  1.2451, -0.6267, -0.3947])"
      ]
     },
     "execution_count": 3,
     "metadata": {},
     "output_type": "execute_result"
    }
   ],
   "source": [
    "rewards = torch.randn(n_choices)\n",
    "rewards"
   ]
  },
  {
   "cell_type": "code",
   "execution_count": 4,
   "id": "ae2a9606-4d7e-41d4-8ba2-9b78c3ce9b2c",
   "metadata": {},
   "outputs": [],
   "source": [
    "class Actor(nn.Module):\n",
    "    def __init__(self, n_out, n_hidden=10):\n",
    "        super().__init__()\n",
    "        self.x = torch.ones(1)\n",
    "        self.layers = nn.Sequential(\n",
    "            nn.Linear(1, n_hidden),\n",
    "            nn.ReLU(),\n",
    "            nn.Linear(n_hidden, n_out),\n",
    "            nn.Softmax(-1)\n",
    "        )\n",
    "\n",
    "    def forward(self):\n",
    "        return self.layers(self.x)"
   ]
  },
  {
   "cell_type": "code",
   "execution_count": 5,
   "id": "32d27f35-22d5-4f1f-8485-49a1749635b1",
   "metadata": {},
   "outputs": [],
   "source": [
    "class Critic(nn.Module):\n",
    "    def __init__(self, n_in, n_hidden=10):\n",
    "        super().__init__()\n",
    "        self.x = torch.ones(n_hidden)\n",
    "        self.layers = nn.Sequential(\n",
    "            nn.Linear(n_in, n_hidden),\n",
    "            nn.ReLU(),\n",
    "            nn.Linear(n_hidden, 1)\n",
    "        )\n",
    "\n",
    "    def forward(self, x):\n",
    "        return self.layers(x)"
   ]
  },
  {
   "cell_type": "code",
   "execution_count": 6,
   "id": "e1f1232d-429d-47d5-9b11-334f1c57c4ad",
   "metadata": {},
   "outputs": [],
   "source": [
    "class Sampler:\n",
    "    def __init__(self, weights):\n",
    "        self.sampler = torch.distributions.categorical.Categorical(weights)\n",
    "        \n",
    "    def sample(self, n=1):\n",
    "        return  self.sampler.sample((n,))"
   ]
  },
  {
   "cell_type": "code",
   "execution_count": 7,
   "id": "55d6279c-5d2e-40a9-9c3e-9042d18e657c",
   "metadata": {},
   "outputs": [],
   "source": [
    "class OneHotEncoder:\n",
    "    def __init__(self, n):\n",
    "        self.n = n\n",
    "        \n",
    "    def encode(self, x):\n",
    "        return nn.functional.one_hot(x, self.n)"
   ]
  },
  {
   "cell_type": "code",
   "execution_count": 8,
   "id": "38255efc-8e3f-4441-8a7a-30cda7254205",
   "metadata": {},
   "outputs": [],
   "source": [
    "actor = Actor(n_choices)\n",
    "critic = Critic(n_choices)"
   ]
  },
  {
   "cell_type": "code",
   "execution_count": 9,
   "id": "09948463-871a-4446-999e-f5bd4f616f81",
   "metadata": {},
   "outputs": [],
   "source": [
    "encoder = OneHotEncoder(n_choices)"
   ]
  },
  {
   "cell_type": "code",
   "execution_count": 10,
   "id": "5426fa5d-cc01-4cf0-9c56-a4ac1bd2d8b8",
   "metadata": {},
   "outputs": [],
   "source": [
    "actor_optimizer = optim.Adam(actor.parameters(), lr=0.001)\n",
    "critic_optimizer = optim.Adam(critic.parameters(), lr=0.005)"
   ]
  },
  {
   "cell_type": "code",
   "execution_count": 11,
   "id": "26903bea-8d57-4b08-a5e2-25af4748d075",
   "metadata": {},
   "outputs": [],
   "source": [
    "criterion = nn.MSELoss()"
   ]
  },
  {
   "cell_type": "code",
   "execution_count": 12,
   "id": "96bba287-9aef-4cfc-9922-8f78e1b7505e",
   "metadata": {},
   "outputs": [],
   "source": [
    "epochs = 1000\n",
    "actor_iters = 10000\n",
    "critic_iters = 10"
   ]
  },
  {
   "cell_type": "code",
   "execution_count": 13,
   "id": "40469a5b-ad22-4d3d-b534-c9b28e9d5329",
   "metadata": {
    "tags": []
   },
   "outputs": [],
   "source": [
    "critic_losses = []\n",
    "actor_rewards = []\n",
    "\n",
    "for _ in range(epochs):\n",
    "    critic_optimizer.zero_grad()\n",
    "    choice = Sampler(actor()).sample(critic_iters)\n",
    "    x = encoder.encode(choice)\n",
    "    pred_reward = critic(x.float())\n",
    "    real_reward = rewards[choice].unsqueeze(-1)\n",
    "    loss = criterion(pred_reward, real_reward)\n",
    "    loss.backward()\n",
    "    critic_optimizer.step()\n",
    "    \n",
    "    critic_losses.append(loss.item())\n",
    "    \n",
    "    actor_optimizer.zero_grad()\n",
    "    probs = actor()\n",
    "    choice = Sampler(probs).sample(actor_iters)\n",
    "    x = encoder.encode(choice)\n",
    "    reward = critic(x.float())\n",
    "    loss = -(reward * torch.log(probs[choice].unsqueeze(-1))).mean()\n",
    "    loss.backward()\n",
    "    actor_optimizer.step()\n",
    "    \n",
    "    actor_rewards.append(reward.mean().item())"
   ]
  },
  {
   "cell_type": "code",
   "execution_count": 14,
   "id": "6a9be49d-1f5b-4a6c-8982-e976eac3507b",
   "metadata": {},
   "outputs": [
    {
     "data": {
      "text/plain": [
       "[<matplotlib.lines.Line2D at 0x7fb5d4471580>]"
      ]
     },
     "execution_count": 14,
     "metadata": {},
     "output_type": "execute_result"
    },
    {
     "data": {
      "image/png": "[encoded data removed]",
      "text/plain": [
       "<Figure size 1080x360 with 2 Axes>"
      ]
     },
     "metadata": {
      "needs_background": "light"
     },
     "output_type": "display_data"
    }
   ],
   "source": [
    "_, axs = plt.subplots(1, 2, figsize=(15, 5))\n",
    "axs[0].plot(critic_losses)\n",
    "axs[1].plot(actor_rewards)"
   ]
  },
  {
   "cell_type": "code",
   "execution_count": 15,
   "id": "0b59ab5e-7853-41f5-8e49-242749a4ac41",
   "metadata": {},
   "outputs": [
    {
     "data": {
      "text/plain": [
       "<BarContainer object of 100 artists>"
      ]
     },
     "execution_count": 15,
     "metadata": {},
     "output_type": "execute_result"
    },
    {
     "data": {
      "image/png": "[encoded data removed]",
      "text/plain": [
       "<Figure size 576x864 with 3 Axes>"
      ]
     },
     "metadata": {
      "needs_background": "light"
     },
     "output_type": "display_data"
    }
   ],
   "source": [
    "color=['C1' if i == actor().argmax() else 'C0' for i in range(n_choices)]\n",
    "_, axs = plt.subplots(3, 1, figsize=(8, 12))\n",
    "axs[0].bar(range(n_choices), rewards, color=color)\n",
    "axs[1].bar(range(n_choices), critic(encoder.encode(torch.arange(n_choices)).float()).flatten().detach().numpy(), color=color)\n",
    "axs[2].bar(range(n_choices), actor().detach().numpy(), color=color)"
   ]
  }
 ],
 "metadata": {
  "kernelspec": {
   "display_name": "Python 3 (ipykernel)",
   "language": "python",
   "name": "python3"
  },
  "language_info": {
   "codemirror_mode": {
    "name": "ipython",
    "version": 3
   },
   "file_extension": ".py",
   "mimetype": "text/x-python",
   "name": "python",
   "nbconvert_exporter": "python",
   "pygments_lexer": "ipython3",
   "version": "3.9.4"
  }
 },
 "nbformat": 4,
 "nbformat_minor": 5
}
