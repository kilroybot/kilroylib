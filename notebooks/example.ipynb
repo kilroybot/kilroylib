{
 "cells": [
  {
   "cell_type": "markdown",
   "id": "4600fc60-6b5d-42d2-bcab-25c267d0f5c8",
   "metadata": {},
   "source": [
    "# Simple training example"
   ]
  },
  {
   "cell_type": "code",
   "execution_count": 1,
   "id": "ee932c01-ca42-414e-96fd-2f34660af8af",
   "metadata": {},
   "outputs": [],
   "source": [
    "import asyncio\n",
    "from datetime import timedelta\n",
    "from kilroyshare import Face\n",
    "from kilroylib.modules import Module\n",
    "from kilroylib.data import MemoryCachingDatasetFactory, FileCachingDatasetFactory\n",
    "from kilroylib.training.offline import OfflineTrainer, PostsLoader\n",
    "from kilroylib.training.online import OnlineTrainer, PostGenerator, PostScheduler\n",
    "from kilroylib.training.stop import MaxEpochsStopCondition, MaxUpdatesStopCondition"
   ]
  },
  {
   "cell_type": "code",
   "execution_count": 2,
   "id": "e9f72468-ef7f-42fd-a761-e290db2750c5",
   "metadata": {},
   "outputs": [],
   "source": [
    "async def dummy_wait():\n",
    "    await asyncio.sleep(0)  # shows that you can await things without any problem"
   ]
  },
  {
   "cell_type": "markdown",
   "id": "19535e9b-f935-4553-852a-e03af78230c1",
   "metadata": {
    "tags": []
   },
   "source": [
    "### Face definition"
   ]
  },
  {
   "cell_type": "code",
   "execution_count": 3,
   "id": "cc2a9daf-daaa-4990-9c48-f81dd292bde3",
   "metadata": {},
   "outputs": [],
   "source": [
    "class MyFace(Face[int, bool]):\n",
    "    def __init__(self):\n",
    "        self.i = 0\n",
    "        self.posts = {}\n",
    "    \n",
    "    async def scrap(self, limit = None):\n",
    "        n = limit or 100\n",
    "        self.i = n+1\n",
    "        for i in range(n):\n",
    "            await dummy_wait()\n",
    "            yield i, i % 3 == 0  # every third is True\n",
    "\n",
    "    async def post(self, data):\n",
    "        post_id = self.i\n",
    "        self.i += 1\n",
    "        self.posts[post_id] = data\n",
    "        await dummy_wait()\n",
    "        return post_id\n",
    "\n",
    "    async def score(self, post_id):\n",
    "        await dummy_wait()\n",
    "        return int(self.posts[post_id]) * 2 - 1  # True -> +1, False -> -1"
   ]
  },
  {
   "cell_type": "markdown",
   "id": "f3ec2315-a4d2-433a-8d78-01e4b96f7e4e",
   "metadata": {},
   "source": [
    "When scrapping posts every third post has x equal True, so around $33\\%$ of posts have x equal True. The module should learn that distribution after offline training.\n",
    "\n",
    "When scoring posts all posts with x equal True are scored $+1$, all posts with x equal False are scored $-1$. The module should learn to generate posts with True only after online training."
   ]
  },
  {
   "cell_type": "markdown",
   "id": "cbfe8bbc-882c-4052-b01c-c1f3970972f2",
   "metadata": {},
   "source": [
    "### Module definition"
   ]
  },
  {
   "cell_type": "code",
   "execution_count": 4,
   "id": "06ceebfd-1fe4-443e-9e88-4fa56a806d8d",
   "metadata": {},
   "outputs": [],
   "source": [
    "import random\n",
    "\n",
    "class MyModule(Module[int, bool]):\n",
    "    def __init__(self):\n",
    "        self.p = 0.5  # Bernoulli distribution parameter\n",
    "        self.i = 0\n",
    "        self.posts = {}\n",
    "    \n",
    "    async def generate(self, n=1):\n",
    "        # generate according to parameter\n",
    "        posts = random.choices([True, False], weights=[self.p, 1-self.p], k=n)\n",
    "        for post in posts:\n",
    "            self.posts[self.i] = post\n",
    "            await dummy_wait()\n",
    "            yield self.i, post\n",
    "            self.i += 1\n",
    "\n",
    "    async def mimic(self, posts):\n",
    "        # estimate new parameter from posts and step towards it\n",
    "        p_est = sum(int(post) for post in posts) / len(posts)\n",
    "        self.p = max(min(self.p + 0.001 * (p_est - self.p), 1), 0)\n",
    "        await dummy_wait()\n",
    "        return self\n",
    "\n",
    "    async def reinforce(self, scores):\n",
    "        # update parameter according to scores\n",
    "        scores = {self.posts[post_id]: score for post_id, score in scores.items()}\n",
    "        diff = sum((int(x) - self.p) * score for x, score in scores.items()) / len(scores)\n",
    "        self.p = max(min(self.p + 0.1 * diff, 1), 0)\n",
    "        await dummy_wait()\n",
    "        return self"
   ]
  },
  {
   "cell_type": "markdown",
   "id": "bcf9ab58-f661-461d-a84e-7dd0cc905972",
   "metadata": {},
   "source": [
    "Simple Bernoulli distribution. \n",
    "\n",
    "When mimicking the module steps towards parameter estimated from real posts. \n",
    "\n",
    "When reinforcing the module steps in the right direction depending on scores."
   ]
  },
  {
   "cell_type": "markdown",
   "id": "e704d3a3-5579-473a-9384-d68c7a73f665",
   "metadata": {},
   "source": [
    "### Setup"
   ]
  },
  {
   "cell_type": "code",
   "execution_count": 5,
   "id": "8b5fc069-a898-4dab-8fa0-cfaf95db3042",
   "metadata": {},
   "outputs": [],
   "source": [
    "face = MyFace()\n",
    "module = MyModule()\n",
    "offline_trainer = OfflineTrainer(\n",
    "    stop_condition=MaxEpochsStopCondition(100),\n",
    "    posts_loader=PostsLoader(batch_size=1, dataset_factory=MemoryCachingDatasetFactory())\n",
    ")\n",
    "online_trainer = OnlineTrainer(\n",
    "    stop_condition=MaxUpdatesStopCondition(100),\n",
    "    generator=PostGenerator(10),\n",
    "    scheduler=PostScheduler(timedelta(seconds=0))\n",
    ")"
   ]
  },
  {
   "cell_type": "code",
   "execution_count": 6,
   "id": "6249669a-23c3-4af3-9e00-84efe8907be4",
   "metadata": {},
   "outputs": [
    {
     "data": {
      "text/plain": [
       "0.5"
      ]
     },
     "execution_count": 6,
     "metadata": {},
     "output_type": "execute_result"
    }
   ],
   "source": [
    "module.p"
   ]
  },
  {
   "cell_type": "markdown",
   "id": "27fceebe-f48f-4771-a3cf-1099bfab08f5",
   "metadata": {},
   "source": [
    "Initial parameter value."
   ]
  },
  {
   "cell_type": "markdown",
   "id": "5e2bb682-2da9-4218-b96c-de4908d38185",
   "metadata": {},
   "source": [
    "### Offline training"
   ]
  },
  {
   "cell_type": "code",
   "execution_count": 7,
   "id": "4732dfb5-3adb-43c9-a8b3-b92fbe7d33e8",
   "metadata": {
    "tags": []
   },
   "outputs": [],
   "source": [
    "module = await offline_trainer.train(module, face)"
   ]
  },
  {
   "cell_type": "code",
   "execution_count": 8,
   "id": "2a45424c-ab6b-42db-9e6f-216775d9c524",
   "metadata": {},
   "outputs": [
    {
     "data": {
      "text/plain": [
       "0.34001284216836875"
      ]
     },
     "execution_count": 8,
     "metadata": {},
     "output_type": "execute_result"
    }
   ],
   "source": [
    "module.p"
   ]
  },
  {
   "cell_type": "markdown",
   "id": "f7e9768e-b9a6-41fa-85c6-c6f7b17b38ea",
   "metadata": {},
   "source": [
    "After offline training the parameter is around $0.33$, as it should be."
   ]
  },
  {
   "cell_type": "markdown",
   "id": "fc47e675-26f7-490b-8728-3c5d29220546",
   "metadata": {},
   "source": [
    "### Online training"
   ]
  },
  {
   "cell_type": "code",
   "execution_count": 9,
   "id": "e6c4aa9f-de21-4789-8957-8d27fca0f043",
   "metadata": {
    "tags": []
   },
   "outputs": [],
   "source": [
    "module = await online_trainer.train(module, face)"
   ]
  },
  {
   "cell_type": "code",
   "execution_count": 10,
   "id": "85aea428-1bb6-4aaf-aa36-f8b968857d7a",
   "metadata": {},
   "outputs": [
    {
     "data": {
      "text/plain": [
       "0.9999995369167228"
      ]
     },
     "execution_count": 10,
     "metadata": {},
     "output_type": "execute_result"
    }
   ],
   "source": [
    "module.p"
   ]
  },
  {
   "cell_type": "markdown",
   "id": "f580af3e-828c-4265-a4b2-2e7623735ec7",
   "metadata": {},
   "source": [
    "Ater online training the parameter is around $1$, also as it should be."
   ]
  }
 ],
 "metadata": {
  "kernelspec": {
   "display_name": "Python 3 (ipykernel)",
   "language": "python",
   "name": "python3"
  },
  "language_info": {
   "codemirror_mode": {
    "name": "ipython",
    "version": 3
   },
   "file_extension": ".py",
   "mimetype": "text/x-python",
   "name": "python",
   "nbconvert_exporter": "python",
   "pygments_lexer": "ipython3",
   "version": "3.9.7"
  }
 },
 "nbformat": 4,
 "nbformat_minor": 5
}
